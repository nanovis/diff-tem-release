{
 "cells": [
  {
   "cell_type": "code",
   "execution_count": 1,
   "id": "af2cd653-af3e-4440-8c5d-605baacf4f7c",
   "metadata": {},
   "outputs": [
    {
     "name": "stdout",
     "output_type": "stream",
     "text": [
      "[Taichi] version 1.5.0, llvm 15.0.1, commit 7b885c28, win, python 3.9.16\n"
     ]
    }
   ],
   "source": [
    "import torch\n",
    "import taichi as ti\n",
    "from torch import optim\n",
    "from diff_tem.simulation_grad import Simulation\n",
    "import logging\n",
    "from copy import deepcopy\n",
    "from focal_frequency_loss import FocalFrequencyLoss as FFL\n",
    "from torch.utils.tensorboard import SummaryWriter\n",
    "import os"
   ]
  },
  {
   "cell_type": "code",
   "execution_count": 2,
   "id": "79f07978-2aab-4e7b-bfee-b56466faf72a",
   "metadata": {},
   "outputs": [
    {
     "name": "stdout",
     "output_type": "stream",
     "text": [
      "[Taichi] Starting on arch=vulkan\n"
     ]
    }
   ],
   "source": [
    "os.chdir(\"diff_tem/tests/\")\n",
    "torch.set_default_dtype(torch.float64)\n",
    "ti.init(arch=ti.vulkan)"
   ]
  },
  {
   "cell_type": "code",
   "execution_count": 3,
   "id": "d4938a88-624f-4689-97de-76b595c9f3bd",
   "metadata": {},
   "outputs": [],
   "source": [
    "logging.basicConfig(level=logging.INFO)\n",
    "logging.getLogger().setLevel(logging.INFO)\n",
    "_logger = logging.getLogger(__name__)\n",
    "def _write_log(string, *logging_strings):\n",
    "    strings = [string, *logging_strings]\n",
    "    if len(strings) > 1:\n",
    "        logging_string = \"\\n    \".join(strings)\n",
    "        _logger.debug(f\"{_logger.name}:\\n    {logging_string}\", stacklevel=2)\n",
    "    else:\n",
    "        _logger.debug(f\"{_logger.name}:  {strings[0]}\", stacklevel=2)\n",
    "        \n",
    "writer = SummaryWriter()"
   ]
  },
  {
   "cell_type": "markdown",
   "id": "e9663b9e",
   "metadata": {},
   "source": [
    "# Learn from empty scene"
   ]
  },
  {
   "cell_type": "code",
   "execution_count": 4,
   "id": "49e2433c-d2e9-49d5-9938-3032bfb838b2",
   "metadata": {},
   "outputs": [],
   "source": [
    "file_path = \"Blank/input.txt\"\n",
    "simulation = Simulation.construct_from_file(file_path)\n",
    "simulation.finish_init_()\n",
    "# copy detectors\n",
    "ref_detectors = simulation.detectors\n",
    "learned_detectors = deepcopy(ref_detectors)"
   ]
  },
  {
   "cell_type": "code",
   "execution_count": 5,
   "id": "6f738241-21bb-4eaa-a2de-0f33a29fb00f",
   "metadata": {},
   "outputs": [],
   "source": [
    "# set requires_grad\n",
    "learning_parameter_names = [\"mtf_a\", \"mtf_b\", \"mtf_c\", \"mtf_alpha\", \"mtf_beta\", \"mtf_p\", \"mtf_q\", \"gain\"]\n",
    "for d in learned_detectors:\n",
    "    d.parameters_require_grad = True\n",
    "    \n",
    "# randomize\n",
    "for d in learned_detectors:\n",
    "    for parameter_name in learning_parameter_names:\n",
    "        val = getattr(d, parameter_name).detach()\n",
    "        setattr(d, parameter_name, val * torch.rand_like(val))"
   ]
  },
  {
   "cell_type": "code",
   "execution_count": 6,
   "id": "89b70d6a-37a5-449e-b707-38dcd47ac7b3",
   "metadata": {},
   "outputs": [],
   "source": [
    "learned_noisy_detector, learned_noise_free_detector = learned_detectors\n",
    "ref_noisy_detector, ref_noise_free_detector = ref_detectors"
   ]
  },
  {
   "cell_type": "code",
   "execution_count": 7,
   "id": "f111e71b-71a4-481c-9312-a68e598640a0",
   "metadata": {},
   "outputs": [],
   "source": [
    "for pn in learning_parameter_names:\n",
    "    _write_log(f\"Ref {pn} = {getattr(ref_noisy_detector, pn)}, \",\n",
    "               f\"initial learning {pn} (from noisy ref) = {getattr(learned_noisy_detector, pn)}, \",\n",
    "               f\"initial learning {pn} (from clean ref) = {getattr(learned_noise_free_detector, pn)}\")"
   ]
  },
  {
   "cell_type": "code",
   "execution_count": 8,
   "id": "75255fa9-e72a-41a7-b1f9-d13d4f27e647",
   "metadata": {},
   "outputs": [],
   "source": [
    "iterations = 20\n",
    "sample_num = 20"
   ]
  },
  {
   "cell_type": "code",
   "execution_count": 9,
   "id": "c3d12a28-2b3c-4641-abb0-afa912ecbce9",
   "metadata": {},
   "outputs": [],
   "source": [
    "lr = 0.1\n",
    "optimizer_noisy = optim.Adam([getattr(learned_noisy_detector, \"_\"+pn) for pn in learning_parameter_names], lr=lr)\n",
    "optimizer_noise_free = optim.Adam([getattr(learned_noise_free_detector, \"_\"+pn) for pn in learning_parameter_names],\n",
    "                                  lr=lr)"
   ]
  },
  {
   "cell_type": "code",
   "execution_count": 10,
   "id": "4a275dab-a653-4247-8b43-bb60fb85465d",
   "metadata": {},
   "outputs": [],
   "source": [
    "ffl = FFL(loss_weight=1.0, alpha=1.0)"
   ]
  },
  {
   "cell_type": "code",
   "execution_count": 15,
   "id": "045b46f5-4b1d-4aef-9ae6-96e765bdad14",
   "metadata": {},
   "outputs": [],
   "source": [
    "ref_results, predetector_vvfs, snode_trees = simulation.generate_micrographs()\n",
    "ref_noisy_predetector_vvfs, ref_noise_free_predetector_vvfs = predetector_vvfs\n",
    "\n",
    "# get references\n",
    "ref_noisy_results = []\n",
    "ref_noise_free_results = []\n",
    "for s in range(sample_num):\n",
    "    noisy_vvf_values = []\n",
    "    noise_free_vvf_values = []\n",
    "    for np_vvf, nfp_vvf in zip(ref_noisy_predetector_vvfs, ref_noise_free_predetector_vvfs):\n",
    "        noisy_vvf = ref_noisy_detector.apply_quantization(np_vvf.values)\n",
    "        noisy_vvf = ref_noisy_detector.apply_mtf(noisy_vvf)\n",
    "        noisy_vvf_values.append(noisy_vvf)\n",
    "\n",
    "        noise_free_vvf = ref_noise_free_detector.apply_mtf(nfp_vvf.values)\n",
    "        noise_free_vvf_values.append(noise_free_vvf)\n",
    "\n",
    "    ref_noisy_results.append(torch.stack(noisy_vvf_values))\n",
    "    ref_noise_free_results.append(torch.stack(noise_free_vvf_values))\n",
    "ref_noisy_results = torch.stack(ref_noisy_results)  # (sample_num. tilt_num, *resolution)\n",
    "ref_noise_free_results = torch.stack(ref_noise_free_results)  # (sample_num. tilt_num, *resolution)"
   ]
  },
  {
   "cell_type": "code",
   "execution_count": 16,
   "id": "7d7b4e0e",
   "metadata": {},
   "outputs": [],
   "source": [
    "i = 0"
   ]
  },
  {
   "cell_type": "code",
   "execution_count": 17,
   "id": "793e4878-d358-4c31-8313-8fe6ad1b9e8c",
   "metadata": {},
   "outputs": [],
   "source": [
    "for _ in range(iterations):\n",
    "    optimizer_noisy.zero_grad()\n",
    "    optimizer_noise_free.zero_grad()\n",
    "    pred_noisy_results = []\n",
    "    pred_noise_free_results = []\n",
    "    for s in range(sample_num):\n",
    "        noisy_vvf_values = []\n",
    "        noise_free_vvf_values = []\n",
    "        for np_vvf, nfp_vvf in zip(ref_noisy_predetector_vvfs, ref_noise_free_predetector_vvfs):\n",
    "            noisy_vvf = learned_noisy_detector.apply_quantization(np_vvf.values)\n",
    "            noisy_vvf = learned_noisy_detector.apply_mtf(noisy_vvf)\n",
    "            noisy_vvf_values.append(noisy_vvf)\n",
    "\n",
    "            noise_free_vvf = learned_noise_free_detector.apply_mtf(nfp_vvf.values)\n",
    "            noise_free_vvf_values.append(noise_free_vvf)\n",
    "\n",
    "        pred_noisy_results.append(torch.stack(noisy_vvf_values))\n",
    "        pred_noise_free_results.append(torch.stack(noise_free_vvf_values))\n",
    "        \n",
    "    pred_noisy_results = torch.stack(pred_noisy_results)  # (sample_num, tilt_num, *resolution)\n",
    "    pred_noise_free_results = torch.stack(pred_noise_free_results)  # (sample_num, tilt_num, *resolution)\n",
    "    loss_noisy = ffl(pred_noisy_results.real, ref_noisy_results.real)\n",
    "    loss_noise_free = ffl(pred_noise_free_results.real, ref_noise_free_results.real)\n",
    "    loss_noisy.backward()\n",
    "    loss_noise_free.backward()\n",
    "    for pn in learning_parameter_names:\n",
    "        ref_parameter_val = getattr(ref_noisy_detector, pn)\n",
    "        learned_parameter_val_from_noisy = getattr(learned_noisy_detector, pn)\n",
    "        learned_parameter_val_from_noise_free = getattr(learned_noise_free_detector, pn)\n",
    "        \n",
    "        writer.add_scalars(f\"Parameters/{pn}\", {\n",
    "            \"learned_from_noisy\": learned_parameter_val_from_noisy.detach(),\n",
    "            \"ref\": ref_parameter_val\n",
    "        }, i)\n",
    "        writer.add_scalars(\"Training Loss\", {\n",
    "            \"Noisy\": loss_noisy.detach(),\n",
    "        }, i)\n",
    "        \n",
    "    optimizer_noisy.step()\n",
    "    optimizer_noise_free.step()\n",
    "    i += 1"
   ]
  },
  {
   "cell_type": "code",
   "execution_count": 19,
   "id": "f4663390",
   "metadata": {},
   "outputs": [
    {
     "name": "stdout",
     "output_type": "stream",
     "text": [
      "The tensorboard extension is already loaded. To reload it, use:\n",
      "  %reload_ext tensorboard\n"
     ]
    },
    {
     "data": {
      "text/plain": [
       "Reusing TensorBoard on port 6006 (pid 37632), started 0:26:19 ago. (Use '!kill 37632' to kill it.)"
      ]
     },
     "metadata": {},
     "output_type": "display_data"
    },
    {
     "data": {
      "text/html": [
       "\n",
       "      <iframe id=\"tensorboard-frame-cb0a11f9d10de380\" width=\"100%\" height=\"800\" frameborder=\"0\">\n",
       "      </iframe>\n",
       "      <script>\n",
       "        (function() {\n",
       "          const frame = document.getElementById(\"tensorboard-frame-cb0a11f9d10de380\");\n",
       "          const url = new URL(\"/\", window.location);\n",
       "          const port = 6006;\n",
       "          if (port) {\n",
       "            url.port = port;\n",
       "          }\n",
       "          frame.src = url;\n",
       "        })();\n",
       "      </script>\n",
       "    "
      ],
      "text/plain": [
       "<IPython.core.display.HTML object>"
      ]
     },
     "metadata": {},
     "output_type": "display_data"
    }
   ],
   "source": [
    "%load_ext tensorboard\n",
    "%tensorboard --logdir=runs"
   ]
  },
  {
   "cell_type": "code",
   "execution_count": null,
   "id": "a4b5f812",
   "metadata": {},
   "outputs": [],
   "source": []
  }
 ],
 "metadata": {
  "kernelspec": {
   "display_name": "Python 3 (ipykernel)",
   "language": "python",
   "name": "python3"
  },
  "language_info": {
   "codemirror_mode": {
    "name": "ipython",
    "version": 3
   },
   "file_extension": ".py",
   "mimetype": "text/x-python",
   "name": "python",
   "nbconvert_exporter": "python",
   "pygments_lexer": "ipython3",
   "version": "3.9.16"
  }
 },
 "nbformat": 4,
 "nbformat_minor": 5
}
